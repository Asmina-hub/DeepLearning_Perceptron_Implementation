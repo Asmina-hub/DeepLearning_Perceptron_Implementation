{
 "cells": [
  {
   "cell_type": "code",
   "execution_count": 21,
   "id": "ddcbd057",
   "metadata": {},
   "outputs": [],
   "source": [
    "import os\n",
    "import matplotlib.pyplot as plt\n",
    "import joblib\n",
    "import numpy as np\n",
    "import pandas as pd\n",
    "plt.style.use(\"fivethirtyeight\")"
   ]
  },
  {
   "cell_type": "code",
   "execution_count": 3,
   "id": "b36b57f3",
   "metadata": {},
   "outputs": [
    {
     "name": "stdout",
     "output_type": "stream",
     "text": [
      "Requirement already satisfied: joblib in c:\\users\\asmin\\appdata\\local\\programs\\python\\python311\\lib\\site-packages (1.2.0)\n"
     ]
    },
    {
     "name": "stderr",
     "output_type": "stream",
     "text": [
      "\n",
      "[notice] A new release of pip is available: 23.1 -> 23.1.2\n",
      "[notice] To update, run: python.exe -m pip install --upgrade pip\n"
     ]
    }
   ],
   "source": [
    "!pip install joblib\n"
   ]
  },
  {
   "cell_type": "code",
   "execution_count": 100,
   "id": "051f131c",
   "metadata": {},
   "outputs": [],
   "source": [
    "class perceptorn:\n",
    "    def __init__(self,eta:float=None, epochs:int=None):\n",
    "        self.weight=np.random.randn(3)*1e-4\n",
    "        self.eta=eta\n",
    "        self.epochs=epochs\n",
    "        \n",
    "    def weightUpdate(self, X_biased, weight):\n",
    "        return np.dot(X_biased, weight)\n",
    "    def activationFuction(self, z):\n",
    "        return np.where(z>0,1,0)\n",
    "    \n",
    "    def fit(self, X, Y):\n",
    "        self.x=X\n",
    "        self.y=Y\n",
    "        \n",
    "        X_biased=np.c_[self.x,-np.ones((len(self.x),1))]#concatnation of x with bias\n",
    "        \n",
    "        for i in range(self.epochs):\n",
    "            z= self.weightUpdate(X_biased, self.weight)\n",
    "            yUpdate=self.activationFuction(z)\n",
    "            print('Updated y is ', yUpdate)\n",
    "            self.error=self.y-yUpdate\n",
    "            print('Updated error is', self.error)\n",
    "            self.weight=self.weight+ self.eta*np.dot(X_biased.T,self.error)\n",
    "            print('Updated weight is ', self.weight)\n",
    "            \n",
    "    def prediction(self,X_input,weights):\n",
    "        X_with_bias=np.c_[X_input,-np.ones((len(X),1))]\n",
    "        z= self.weightUpdate(X_with_bias, self.weight)\n",
    "        return self.activationFuction(z)\n",
    "        "
   ]
  },
  {
   "cell_type": "code",
   "execution_count": null,
   "id": "f27b6e9f",
   "metadata": {},
   "outputs": [],
   "source": []
  },
  {
   "cell_type": "code",
   "execution_count": 101,
   "id": "a1bcdd2b",
   "metadata": {},
   "outputs": [
    {
     "data": {
      "text/plain": [
       "array([[-1.],\n",
       "       [-1.],\n",
       "       [-1.],\n",
       "       [-1.]])"
      ]
     },
     "execution_count": 101,
     "metadata": {},
     "output_type": "execute_result"
    }
   ],
   "source": [
    "test=-np.ones((4,1))\n",
    "test"
   ]
  },
  {
   "cell_type": "code",
   "execution_count": 102,
   "id": "652fdbda",
   "metadata": {},
   "outputs": [
    {
     "data": {
      "text/plain": [
       "array([[1.],\n",
       "       [1.],\n",
       "       [1.],\n",
       "       [1.]])"
      ]
     },
     "execution_count": 102,
     "metadata": {},
     "output_type": "execute_result"
    }
   ],
   "source": [
    "x=np.ones((4,1))\n",
    "x"
   ]
  },
  {
   "cell_type": "code",
   "execution_count": 103,
   "id": "58c3e5a5",
   "metadata": {},
   "outputs": [
    {
     "ename": "SyntaxError",
     "evalue": "invalid syntax (3712771397.py, line 1)",
     "output_type": "error",
     "traceback": [
      "\u001b[1;36m  Cell \u001b[1;32mIn[103], line 1\u001b[1;36m\u001b[0m\n\u001b[1;33m    np.c_[x,test]//concatinate X with Bias matrix\u001b[0m\n\u001b[1;37m                               ^\u001b[0m\n\u001b[1;31mSyntaxError\u001b[0m\u001b[1;31m:\u001b[0m invalid syntax\n"
     ]
    }
   ],
   "source": [
    "np.c_[x,test]//concatinate X with Bias matrix"
   ]
  },
  {
   "cell_type": "code",
   "execution_count": 104,
   "id": "74ba340c",
   "metadata": {},
   "outputs": [
    {
     "data": {
      "text/html": [
       "<div>\n",
       "<style scoped>\n",
       "    .dataframe tbody tr th:only-of-type {\n",
       "        vertical-align: middle;\n",
       "    }\n",
       "\n",
       "    .dataframe tbody tr th {\n",
       "        vertical-align: top;\n",
       "    }\n",
       "\n",
       "    .dataframe thead th {\n",
       "        text-align: right;\n",
       "    }\n",
       "</style>\n",
       "<table border=\"1\" class=\"dataframe\">\n",
       "  <thead>\n",
       "    <tr style=\"text-align: right;\">\n",
       "      <th></th>\n",
       "      <th>x1</th>\n",
       "      <th>x2</th>\n",
       "      <th>y</th>\n",
       "    </tr>\n",
       "  </thead>\n",
       "  <tbody>\n",
       "    <tr>\n",
       "      <th>0</th>\n",
       "      <td>0</td>\n",
       "      <td>0</td>\n",
       "      <td>0</td>\n",
       "    </tr>\n",
       "    <tr>\n",
       "      <th>1</th>\n",
       "      <td>0</td>\n",
       "      <td>1</td>\n",
       "      <td>1</td>\n",
       "    </tr>\n",
       "    <tr>\n",
       "      <th>2</th>\n",
       "      <td>1</td>\n",
       "      <td>0</td>\n",
       "      <td>1</td>\n",
       "    </tr>\n",
       "    <tr>\n",
       "      <th>3</th>\n",
       "      <td>1</td>\n",
       "      <td>1</td>\n",
       "      <td>1</td>\n",
       "    </tr>\n",
       "  </tbody>\n",
       "</table>\n",
       "</div>"
      ],
      "text/plain": [
       "   x1  x2  y\n",
       "0   0   0  0\n",
       "1   0   1  1\n",
       "2   1   0  1\n",
       "3   1   1  1"
      ]
     },
     "execution_count": 104,
     "metadata": {},
     "output_type": "execute_result"
    }
   ],
   "source": [
    "#prepare data for OR Gate\n",
    "OR={\"x1\":[0,0,1,1],\"x2\":[0,1,0,1],\"y\":[0,1,1,1]}\n",
    "df_OR=pd.DataFrame(OR)\n",
    "df_OR"
   ]
  },
  {
   "cell_type": "code",
   "execution_count": 105,
   "id": "a9112f95",
   "metadata": {},
   "outputs": [],
   "source": [
    "def prepare_data(df,target_col=\"y\"):\n",
    "    X=df.drop(target_col,axis=1)\n",
    "    y=df[target_col]\n",
    "    return X,y"
   ]
  },
  {
   "cell_type": "code",
   "execution_count": 106,
   "id": "9ef4b4a3",
   "metadata": {},
   "outputs": [
    {
     "data": {
      "text/html": [
       "<div>\n",
       "<style scoped>\n",
       "    .dataframe tbody tr th:only-of-type {\n",
       "        vertical-align: middle;\n",
       "    }\n",
       "\n",
       "    .dataframe tbody tr th {\n",
       "        vertical-align: top;\n",
       "    }\n",
       "\n",
       "    .dataframe thead th {\n",
       "        text-align: right;\n",
       "    }\n",
       "</style>\n",
       "<table border=\"1\" class=\"dataframe\">\n",
       "  <thead>\n",
       "    <tr style=\"text-align: right;\">\n",
       "      <th></th>\n",
       "      <th>x1</th>\n",
       "      <th>x2</th>\n",
       "    </tr>\n",
       "  </thead>\n",
       "  <tbody>\n",
       "    <tr>\n",
       "      <th>0</th>\n",
       "      <td>0</td>\n",
       "      <td>0</td>\n",
       "    </tr>\n",
       "    <tr>\n",
       "      <th>1</th>\n",
       "      <td>0</td>\n",
       "      <td>1</td>\n",
       "    </tr>\n",
       "    <tr>\n",
       "      <th>2</th>\n",
       "      <td>1</td>\n",
       "      <td>0</td>\n",
       "    </tr>\n",
       "    <tr>\n",
       "      <th>3</th>\n",
       "      <td>1</td>\n",
       "      <td>1</td>\n",
       "    </tr>\n",
       "  </tbody>\n",
       "</table>\n",
       "</div>"
      ],
      "text/plain": [
       "   x1  x2\n",
       "0   0   0\n",
       "1   0   1\n",
       "2   1   0\n",
       "3   1   1"
      ]
     },
     "execution_count": 106,
     "metadata": {},
     "output_type": "execute_result"
    }
   ],
   "source": [
    "X,y=prepare_data(df_OR)\n",
    "X\n"
   ]
  },
  {
   "cell_type": "code",
   "execution_count": 107,
   "id": "4b6a77bb",
   "metadata": {},
   "outputs": [
    {
     "data": {
      "text/plain": [
       "0    0\n",
       "1    1\n",
       "2    1\n",
       "3    1\n",
       "Name: y, dtype: int64"
      ]
     },
     "execution_count": 107,
     "metadata": {},
     "output_type": "execute_result"
    }
   ],
   "source": [
    "y\n"
   ]
  },
  {
   "cell_type": "code",
   "execution_count": 108,
   "id": "2b85d6af",
   "metadata": {},
   "outputs": [],
   "source": [
    "ETA=0.1\n",
    "EPOCHS=10\n",
    "model_or=perceptorn(ETA,EPOCHS)\n"
   ]
  },
  {
   "cell_type": "code",
   "execution_count": 109,
   "id": "537c53af",
   "metadata": {},
   "outputs": [
    {
     "name": "stdout",
     "output_type": "stream",
     "text": [
      "Updated y is  [0 1 0 1]\n",
      "Updated error is 0    0\n",
      "1    0\n",
      "2    1\n",
      "3    0\n",
      "Name: y, dtype: int64\n",
      "Updated weight is  [ 0.09994778  0.00017624 -0.09991033]\n",
      "Updated y is  [1 1 1 1]\n",
      "Updated error is 0   -1\n",
      "1    0\n",
      "2    0\n",
      "3    0\n",
      "Name: y, dtype: int64\n",
      "Updated weight is  [9.99477789e-02 1.76237417e-04 8.96695682e-05]\n",
      "Updated y is  [0 1 1 1]\n",
      "Updated error is 0    0\n",
      "1    0\n",
      "2    0\n",
      "3    0\n",
      "Name: y, dtype: int64\n",
      "Updated weight is  [9.99477789e-02 1.76237417e-04 8.96695682e-05]\n",
      "Updated y is  [0 1 1 1]\n",
      "Updated error is 0    0\n",
      "1    0\n",
      "2    0\n",
      "3    0\n",
      "Name: y, dtype: int64\n",
      "Updated weight is  [9.99477789e-02 1.76237417e-04 8.96695682e-05]\n",
      "Updated y is  [0 1 1 1]\n",
      "Updated error is 0    0\n",
      "1    0\n",
      "2    0\n",
      "3    0\n",
      "Name: y, dtype: int64\n",
      "Updated weight is  [9.99477789e-02 1.76237417e-04 8.96695682e-05]\n",
      "Updated y is  [0 1 1 1]\n",
      "Updated error is 0    0\n",
      "1    0\n",
      "2    0\n",
      "3    0\n",
      "Name: y, dtype: int64\n",
      "Updated weight is  [9.99477789e-02 1.76237417e-04 8.96695682e-05]\n",
      "Updated y is  [0 1 1 1]\n",
      "Updated error is 0    0\n",
      "1    0\n",
      "2    0\n",
      "3    0\n",
      "Name: y, dtype: int64\n",
      "Updated weight is  [9.99477789e-02 1.76237417e-04 8.96695682e-05]\n",
      "Updated y is  [0 1 1 1]\n",
      "Updated error is 0    0\n",
      "1    0\n",
      "2    0\n",
      "3    0\n",
      "Name: y, dtype: int64\n",
      "Updated weight is  [9.99477789e-02 1.76237417e-04 8.96695682e-05]\n",
      "Updated y is  [0 1 1 1]\n",
      "Updated error is 0    0\n",
      "1    0\n",
      "2    0\n",
      "3    0\n",
      "Name: y, dtype: int64\n",
      "Updated weight is  [9.99477789e-02 1.76237417e-04 8.96695682e-05]\n",
      "Updated y is  [0 1 1 1]\n",
      "Updated error is 0    0\n",
      "1    0\n",
      "2    0\n",
      "3    0\n",
      "Name: y, dtype: int64\n",
      "Updated weight is  [9.99477789e-02 1.76237417e-04 8.96695682e-05]\n"
     ]
    }
   ],
   "source": [
    "model_or.fit(X, y)"
   ]
  },
  {
   "cell_type": "code",
   "execution_count": null,
   "id": "d5e4ad15",
   "metadata": {},
   "outputs": [],
   "source": []
  }
 ],
 "metadata": {
  "kernelspec": {
   "display_name": "Python 3 (ipykernel)",
   "language": "python",
   "name": "python3"
  },
  "language_info": {
   "codemirror_mode": {
    "name": "ipython",
    "version": 3
   },
   "file_extension": ".py",
   "mimetype": "text/x-python",
   "name": "python",
   "nbconvert_exporter": "python",
   "pygments_lexer": "ipython3",
   "version": "3.11.3"
  }
 },
 "nbformat": 4,
 "nbformat_minor": 5
}
