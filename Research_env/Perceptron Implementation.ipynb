{
 "cells": [
  {
   "cell_type": "code",
   "execution_count": 6,
   "id": "ddcbd057",
   "metadata": {},
   "outputs": [],
   "source": [
    "import os\n",
    "import matplotlib.pyplot as plt\n",
    "import joblib\n",
    "import numpy as np\n",
    "\n",
    "plt.style.use(\"fivethirtyeight\")"
   ]
  },
  {
   "cell_type": "code",
   "execution_count": 3,
   "id": "b36b57f3",
   "metadata": {},
   "outputs": [
    {
     "name": "stdout",
     "output_type": "stream",
     "text": [
      "Collecting joblib\n",
      "  Downloading joblib-1.2.0-py3-none-any.whl (297 kB)\n",
      "                                              0.0/298.0 kB ? eta -:--:--\n",
      "     ----------                              81.9/298.0 kB 2.3 MB/s eta 0:00:01\n",
      "     ----------------------------           225.3/298.0 kB 2.8 MB/s eta 0:00:01\n",
      "     -------------------------------------- 298.0/298.0 kB 2.3 MB/s eta 0:00:00\n",
      "Installing collected packages: joblib\n",
      "Successfully installed joblib-1.2.0\n"
     ]
    },
    {
     "name": "stderr",
     "output_type": "stream",
     "text": [
      "\n",
      "[notice] A new release of pip is available: 23.1 -> 23.1.2\n",
      "[notice] To update, run: python.exe -m pip install --upgrade pip\n"
     ]
    }
   ],
   "source": [
    "!pip install joblib\n"
   ]
  },
  {
   "cell_type": "code",
   "execution_count": 8,
   "id": "4682d755",
   "metadata": {},
   "outputs": [
    {
     "name": "stdout",
     "output_type": "stream",
     "text": [
      "Requirement already satisfied: pip in c:\\users\\asmin\\appdata\\local\\programs\\python\\python311\\lib\\site-packages (23.1)\n",
      "Collecting pip\n",
      "  Downloading pip-23.1.2-py3-none-any.whl (2.1 MB)\n",
      "                                              0.0/2.1 MB ? eta -:--:--\n",
      "                                              0.0/2.1 MB 960.0 kB/s eta 0:00:03\n",
      "     --                                       0.1/2.1 MB 1.3 MB/s eta 0:00:02\n",
      "     ---                                      0.2/2.1 MB 1.5 MB/s eta 0:00:02\n",
      "     ----                                     0.2/2.1 MB 1.4 MB/s eta 0:00:02\n",
      "     -------                                  0.4/2.1 MB 1.6 MB/s eta 0:00:02\n",
      "     --------                                 0.5/2.1 MB 1.6 MB/s eta 0:00:02\n",
      "     ----------                               0.5/2.1 MB 1.7 MB/s eta 0:00:01\n",
      "     -----------                              0.6/2.1 MB 1.6 MB/s eta 0:00:01\n",
      "     ------------                             0.6/2.1 MB 1.5 MB/s eta 0:00:01\n",
      "     --------------                           0.8/2.1 MB 1.6 MB/s eta 0:00:01\n",
      "     -----------------                        0.9/2.1 MB 1.7 MB/s eta 0:00:01\n",
      "     -------------------                      1.0/2.1 MB 1.8 MB/s eta 0:00:01\n",
      "     ----------------------                   1.2/2.1 MB 1.9 MB/s eta 0:00:01\n",
      "     ------------------------                 1.3/2.1 MB 1.9 MB/s eta 0:00:01\n",
      "     --------------------------               1.4/2.1 MB 2.0 MB/s eta 0:00:01\n",
      "     -----------------------------            1.5/2.1 MB 2.0 MB/s eta 0:00:01\n",
      "     ------------------------------           1.6/2.1 MB 2.0 MB/s eta 0:00:01\n",
      "     ---------------------------------        1.8/2.1 MB 2.0 MB/s eta 0:00:01\n",
      "     ----------------------------------       1.8/2.1 MB 2.0 MB/s eta 0:00:01\n",
      "     -----------------------------------      1.8/2.1 MB 2.0 MB/s eta 0:00:01\n",
      "     -----------------------------------      1.8/2.1 MB 2.0 MB/s eta 0:00:01\n",
      "     -----------------------------------      1.8/2.1 MB 2.0 MB/s eta 0:00:01\n",
      "     ---------------------------------------  2.1/2.1 MB 1.9 MB/s eta 0:00:01\n",
      "     ---------------------------------------- 2.1/2.1 MB 1.9 MB/s eta 0:00:00\n"
     ]
    },
    {
     "name": "stderr",
     "output_type": "stream",
     "text": [
      "ERROR: To modify pip, please run the following command:\n",
      "C:\\Users\\asmin\\AppData\\Local\\Programs\\Python\\Python311\\python.exe -m pip install --upgrade pip\n",
      "\n",
      "[notice] A new release of pip is available: 23.1 -> 23.1.2\n",
      "[notice] To update, run: python.exe -m pip install --upgrade pip\n"
     ]
    }
   ],
   "source": [
    "! pip install --upgrade pip\n"
   ]
  },
  {
   "cell_type": "code",
   "execution_count": null,
   "id": "051f131c",
   "metadata": {},
   "outputs": [],
   "source": []
  }
 ],
 "metadata": {
  "kernelspec": {
   "display_name": "Python 3 (ipykernel)",
   "language": "python",
   "name": "python3"
  },
  "language_info": {
   "codemirror_mode": {
    "name": "ipython",
    "version": 3
   },
   "file_extension": ".py",
   "mimetype": "text/x-python",
   "name": "python",
   "nbconvert_exporter": "python",
   "pygments_lexer": "ipython3",
   "version": "3.11.3"
  }
 },
 "nbformat": 4,
 "nbformat_minor": 5
}
